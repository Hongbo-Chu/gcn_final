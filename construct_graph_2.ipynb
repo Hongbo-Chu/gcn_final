{
 "cells": [
  {
   "cell_type": "markdown",
   "metadata": {},
   "source": [
    "# 新版建图\n",
    "* 使用邻接矩阵代替for循环来建立图\n",
    "* "
   ]
  },
  {
   "cell_type": "code",
   "execution_count": 1,
   "metadata": {},
   "outputs": [
    {
     "name": "stderr",
     "output_type": "stream",
     "text": [
      "Using backend: pytorch\n"
     ]
    }
   ],
   "source": [
    "import numpy as np\n",
    "import torch\n",
    "from tqdm import tqdm\n",
    "from collections import Counter\n",
    "import torch.nn.functional as F\n",
    "import dgl\n",
    "from maintrain.utils.utils import Cluster, neighber_idx\n",
    "import copy\n",
    "torch.set_printoptions(threshold=np.inf)"
   ]
  },
  {
   "cell_type": "code",
   "execution_count": 10,
   "metadata": {},
   "outputs": [
    {
     "data": {
      "text/plain": [
       "array([  0., 111.,   0.,   0.,   0.,   0.,   0.,   0.,   0.,   0.,   0.,\n",
       "         0.,   0.,   0.,   0.,   0.,   0.,   0.,   0.,   0.])"
      ]
     },
     "execution_count": 10,
     "metadata": {},
     "output_type": "execute_result"
    }
   ],
   "source": [
    "def L2_dist(x, y):\n",
    "    \"\"\"\n",
    "    a fast approach to compute X, Y euclidean distace.\n",
    "    Args:\n",
    "        x: pytorch Variable, with shape [m, d]\n",
    "        y: pytorch Variable, with shape [n, d]\n",
    "    Returns:\n",
    "        dist: pytorch Variable, with shape [m, n]\n",
    "    \"\"\"\n",
    "    #y: pytorch Variable, with shape [n, d]\n",
    "    m, n = x.size(0), y.size(0)\n",
    "    # xx经过pow()方法对每单个数据进行二次方操作后，在axis=1 方向（横向，就是第一列向最后一列的方向）加和，此时xx的shape为(m, 1)，经过expand()方法，扩展n-1次，此时xx的shape为(m, n)\n",
    "    xx = torch.pow(x, 2).sum(1, keepdim=True).expand(m, n)\n",
    "    # yy会在最后进行转置的操作\n",
    "    yy = torch.pow(y, 2).sum(1, keepdim=True).expand(n, m).t()\n",
    "    dist = xx + yy\n",
    "    # torch.addmm(beta=1, input, alpha=1, mat1, mat2, out=None)，这行表示的意思是dist - 2 * x * yT \n",
    "    dist.addmm_(x, y.t(), beta=1, alpha=-2)\n",
    "    # clamp()函数可以限定dist内元素的最大最小范围，dist最后开方，得到样本之间的距离矩阵\n",
    "    dist = dist.clamp(min=1e-12).sqrt()  # for numerical stability\n",
    "    #归一化一下\n",
    "    dist_min =dist.min()\n",
    "    dist = dist - dist_min\n",
    "    dist_max = dist.max()\n",
    "    dist = dist / dist_max\n",
    "    return dist\n"
   ]
  },
  {
   "cell_type": "code",
   "execution_count": null,
   "metadata": {},
   "outputs": [],
   "source": [
    "class new_graph:\n",
    "    def __init__(self) -> None:\n",
    "        pass\n",
    "    def init_adj_matric(self):\n",
    "        '''\n",
    "        建立固定的邻接矩阵\n",
    "\n",
    "        '''\n",
    "        return np.random.random(300,300)\n",
    "    def init_edge(self):\n",
    "        \"\"\"初始化边，参考javed\n",
    "        \"\"\"\n",
    "        e_ij = []\n",
    "        e_pos = []\n",
    "        #仿照javed公式写(r,c,h,w)分别代表了 左上角的坐标和图像的高和宽\n",
    "        h = w = 128\n",
    "        f_ij = L2_dist(self.node_fea, self.node_fea)#公式中||f_i - f_j||_2\n",
    "        d_ij = L2_dist(self.d, self.d)#公式中d_ij\n",
    "        #公式中p_ij\n",
    "        #DONE 只算最近邻\n",
    "        px =  self.d.permute(1, 0)[0] # 所有x坐标\n",
    "        px1 = px.expand(px.size(0), px.size(0))\n",
    "        px2 = px1.permute(1, 0)\n",
    "        py = self.d.permute(1, 0)[1] # 所有的y坐标\n",
    "        py1 = py.expand(py.size(0), py.size(0))\n",
    "        py2 = py1.permute(1, 0) # \n",
    "        p_ij1 = ((px1 - px2) / h)\n",
    "        p_ij2 = ((py1 - py2) / h)\n",
    "        #这里需要每个分量都是N * N\n",
    "\n",
    "        # 只有近邻有P值\n",
    "        #reshape一下，方便操作 先空着\n",
    "        p_ij1 = p_ij1.view(self.node_num, self.node_num)\n",
    "        p_ij2 = p_ij2.view(self.node_num, self.node_num)\n",
    "        #先建立{(x, y): idx}，用于根据位置检索邻居的idx\n",
    "        pos_idx_dict = {}\n",
    "        for i in range(len(self.wsi_dic)):\n",
    "            # pos = self.wsi_dic[i][2]\n",
    "            # pos_idx_dict[tuple(pos)] = i\n",
    "            pos_x, pos_y = int(self.wsi_dic[i][2][0]), int(self.wsi_dic[i][2][1])\n",
    "            pos_idx_dict[(pos_x, pos_y)] = i\n",
    "        for i in range(len(p_ij1)):\n",
    "            #只保留近邻的值\n",
    "            #先计算邻居的idx\n",
    "            pos = self.wsi_dic[i][2]\n",
    "            nei_idx = neighber_idx(pos, 1, pos_idx_dict)\n",
    "            temp = torch.tensor([k if idx in nei_idx else 0 for idx, k in enumerate(p_ij1[i])])\n",
    "            p_ij1[i] = temp\n",
    "            temp = torch.tensor([k if idx in nei_idx else 0 for idx, k in enumerate(p_ij2[i])])\n",
    "            p_ij2[i] = temp\n",
    "\n",
    "        self.node_num = len(self.node_fea)\n",
    "        z = torch.zeros_like(f_ij).to(self.device)\n",
    "        # print(f\"各种大小{f_ij.size()} {p_ij1.size()} {p_ij2.size()} {d_ij.size()} {z.size()}\")\n",
    "        # edge_fea = torch.stack([f_ij, p_ij1, p_ij2, z, z, d_ij])\n",
    "        edge_fea = torch.stack([f_ij])\n",
    "        edge_pos = torch.stack([p_ij1, p_ij2, z, z, d_ij])\n",
    "        edge_fea = edge_fea.permute(2, 1, 0) # 大小是3,3,3 其中edge_fea[i][j]就代表了那个点的特征\n",
    "        edge_pos = edge_pos.permute(2, 1, 0)\n",
    "        edge_pos = self.edge_mlp(edge_pos)\n",
    "        edge_fea = edge_fea.contiguous().view(1, -1)\n",
    "        edge_pos = edge_pos.contiguous().view(1, -1)\n",
    "        #此时edge_fea 为 [n, n, edge_fea_dim]\n",
    "        # for i in tqdm(range(self.node_num)): #全连接图\n",
    "        #     for j in range(self.node_num):\n",
    "        #         e_ij.append(edge_fea[i][j])\n",
    "        #         e_pos.append(edge_pos[i][j])\n",
    "        # e_ij = torch.stack(e_ij)\n",
    "        # e_pos = torch.stack(e_pos)\n",
    "        # print(f\"test{e_ij.size()}\")\n",
    "        #e_ij是特征维度的矩阵， e_pos是物理维度的矩阵\n",
    "        #[n^2, 6] --> [n, n]\n",
    "        return edge_fea.view(self.node_num, self.node_num), edge_pos.view(self.node_num, self.node_num)\n",
    "    \n",
    "        \n"
   ]
  }
 ],
 "metadata": {
  "kernelspec": {
   "display_name": "Python 3.6.13 ('pytorch')",
   "language": "python",
   "name": "python3"
  },
  "language_info": {
   "codemirror_mode": {
    "name": "ipython",
    "version": 3
   },
   "file_extension": ".py",
   "mimetype": "text/x-python",
   "name": "python",
   "nbconvert_exporter": "python",
   "pygments_lexer": "ipython3",
   "version": "3.6.13"
  },
  "orig_nbformat": 4,
  "vscode": {
   "interpreter": {
    "hash": "5c3ed625d07cd2f6b5eb7c53f088bc2a8ed28dd618e0eea18691a31e90decd69"
   }
  }
 },
 "nbformat": 4,
 "nbformat_minor": 2
}
